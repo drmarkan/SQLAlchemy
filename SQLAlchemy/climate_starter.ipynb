{
 "cells": [
  {
   "cell_type": "code",
   "execution_count": 1,
   "metadata": {},
   "outputs": [],
   "source": [
    "%matplotlib inline\n",
    "from matplotlib import style\n",
    "style.use('fivethirtyeight')\n",
    "import matplotlib.pyplot as plt"
   ]
  },
  {
   "cell_type": "code",
   "execution_count": 2,
   "metadata": {},
   "outputs": [],
   "source": [
    "import numpy as np\n",
    "import pandas as pd"
   ]
  },
  {
   "cell_type": "code",
   "execution_count": 3,
   "metadata": {},
   "outputs": [],
   "source": [
    "import datetime as dt"
   ]
  },
  {
   "cell_type": "markdown",
   "metadata": {},
   "source": [
    "# Reflect Tables into SQLAlchemy ORM"
   ]
  },
  {
   "cell_type": "code",
   "execution_count": 4,
   "metadata": {},
   "outputs": [],
   "source": [
    "# Python SQL toolkit and Object Relational Mapper\n",
    "import sqlalchemy\n",
    "from sqlalchemy.ext.automap import automap_base\n",
    "from sqlalchemy.orm import Session\n",
    "from sqlalchemy import create_engine, func"
   ]
  },
  {
   "cell_type": "code",
   "execution_count": 5,
   "metadata": {},
   "outputs": [],
   "source": [
    "engine = create_engine(\"sqlite:///Resources/hawaii.sqlite\")"
   ]
  },
  {
   "cell_type": "code",
   "execution_count": 6,
   "metadata": {},
   "outputs": [],
   "source": [
    "# reflect an existing database into a new model\n",
    "Base = automap_base()\n",
    "# reflect the tables\n",
    "Base.prepare(engine, reflect=True)"
   ]
  },
  {
   "cell_type": "code",
   "execution_count": 7,
   "metadata": {},
   "outputs": [
    {
     "data": {
      "text/plain": [
       "['measurement', 'station']"
      ]
     },
     "execution_count": 7,
     "metadata": {},
     "output_type": "execute_result"
    }
   ],
   "source": [
    "# We can view all of the classes that automap found\n",
    "Base.classes.keys()"
   ]
  },
  {
   "cell_type": "code",
   "execution_count": 8,
   "metadata": {},
   "outputs": [],
   "source": [
    "# Save references to each table\n",
    "Measurement = Base.classes.measurement\n",
    "Station = Base.classes.station"
   ]
  },
  {
   "cell_type": "code",
   "execution_count": 9,
   "metadata": {},
   "outputs": [],
   "source": [
    "# Create our session (link) from Python to the DB\n",
    "session = Session(engine)"
   ]
  },
  {
   "cell_type": "markdown",
   "metadata": {},
   "source": [
    "# Exploratory Climate Analysis"
   ]
  },
  {
   "cell_type": "code",
   "execution_count": 10,
   "metadata": {},
   "outputs": [
    {
     "name": "stdout",
     "output_type": "stream",
     "text": [
      "('2016-08-23', 0.0, 'USC00519397', 'WAIKIKI 717.2, HI US')\n",
      "('2016-08-23', 0.0, 'USC00519397', 'KANEOHE 838.1, HI US')\n",
      "('2016-08-23', 0.0, 'USC00519397', 'KUALOA RANCH HEADQUARTERS 886.9, HI US')\n",
      "('2016-08-23', 0.0, 'USC00519397', 'PEARL CITY, HI US')\n",
      "('2016-08-23', 0.0, 'USC00519397', 'UPPER WAHIAWA 874.3, HI US')\n",
      "('2016-08-23', 0.0, 'USC00519397', 'WAIMANALO EXPERIMENTAL FARM, HI US')\n",
      "('2016-08-23', 0.0, 'USC00519397', 'WAIHEE 837.5, HI US')\n",
      "('2016-08-23', 0.0, 'USC00519397', 'HONOLULU OBSERVATORY 702.2, HI US')\n",
      "('2016-08-23', 0.0, 'USC00519397', 'MANOA LYON ARBO 785.2, HI US')\n",
      "('2016-08-24', 0.08, 'USC00519397', 'WAIKIKI 717.2, HI US')\n"
     ]
    }
   ],
   "source": [
    "# Design a query to retrieve the last 12 months of precipitation data and plot the results\n",
    "for row in session.query(Measurement.date, Measurement.prcp, Measurement.station, Station.name).filter(Measurement.date <= '2017-08-23').\\\n",
    "filter(Measurement.date >= '2016-08-23').limit(10):\n",
    "    print (row) \n",
    "# Calculate the date 1 year ago from today\n",
    "\n",
    "# Sort the dataframe by date\n",
    "\n",
    "# Use Pandas Plotting with Matplotlib to plot the data\n",
    "\n",
    "# Rotate the xticks for the dates\n"
   ]
  },
  {
   "cell_type": "code",
   "execution_count": 11,
   "metadata": {},
   "outputs": [],
   "source": [
    "# Perform a query to retrieve the data and precipitation scores\n",
    "results = session.query(Measurement.date, Measurement.prcp).filter(Measurement.date <= '2017-08-23').\\\n",
    "filter(Measurement.date >= '2016-08-23').\\\n",
    "order_by(Measurement.date.desc()).all()"
   ]
  },
  {
   "cell_type": "code",
   "execution_count": 12,
   "metadata": {},
   "outputs": [
    {
     "data": {
      "text/plain": [
       "(2230, 2)"
      ]
     },
     "execution_count": 12,
     "metadata": {},
     "output_type": "execute_result"
    }
   ],
   "source": [
    "# Save the query results as a Pandas DataFrame and set the index to the date column\n",
    "date = [result[0] for result in results[:]]\n",
    "prcp = [result[1] for result in results[:]]\n",
    "\n",
    "results_df = pd.DataFrame(results[:], columns =['date', 'prcp'])\n",
    "results_df.shape"
   ]
  },
  {
   "cell_type": "code",
   "execution_count": 13,
   "metadata": {},
   "outputs": [
    {
     "data": {
      "text/plain": [
       "date     object\n",
       "prcp    float64\n",
       "dtype: object"
      ]
     },
     "execution_count": 13,
     "metadata": {},
     "output_type": "execute_result"
    }
   ],
   "source": [
    "results_df.dtypes"
   ]
  },
  {
   "cell_type": "code",
   "execution_count": 14,
   "metadata": {},
   "outputs": [],
   "source": [
    "results_df['date'] = pd.to_datetime(results_df.date)"
   ]
  },
  {
   "cell_type": "code",
   "execution_count": 15,
   "metadata": {},
   "outputs": [
    {
     "data": {
      "text/plain": [
       "date    datetime64[ns]\n",
       "prcp           float64\n",
       "dtype: object"
      ]
     },
     "execution_count": 15,
     "metadata": {},
     "output_type": "execute_result"
    }
   ],
   "source": [
    "results_df.dtypes"
   ]
  },
  {
   "cell_type": "code",
   "execution_count": 16,
   "metadata": {},
   "outputs": [],
   "source": [
    "results_df.to_csv('results_df2.csv', index=False)"
   ]
  },
  {
   "cell_type": "code",
   "execution_count": 17,
   "metadata": {},
   "outputs": [],
   "source": [
    "import matplotlib.dates as mdates\n",
    "import seaborn as sns"
   ]
  },
  {
   "cell_type": "code",
   "execution_count": 18,
   "metadata": {},
   "outputs": [
    {
     "data": {
      "text/plain": [
       "(2230, 1)"
      ]
     },
     "execution_count": 18,
     "metadata": {},
     "output_type": "execute_result"
    }
   ],
   "source": [
    "results_plot_df = pd.read_csv('results_df2.csv', usecols=['date','prcp'], parse_dates=['date'])\n",
    "results_plot_df.set_index('date', inplace=True)\n",
    "results_plot_df.head()\n",
    "results_plot_df.shape"
   ]
  },
  {
   "cell_type": "code",
   "execution_count": 19,
   "metadata": {},
   "outputs": [
    {
     "data": {
      "text/plain": [
       "prcp    float64\n",
       "dtype: object"
      ]
     },
     "execution_count": 19,
     "metadata": {},
     "output_type": "execute_result"
    }
   ],
   "source": [
    "results_plot_df.dtypes"
   ]
  },
  {
   "cell_type": "code",
   "execution_count": 20,
   "metadata": {},
   "outputs": [
    {
     "data": {
      "image/png": "[encoded data removed]",
      "text/plain": [
       "<Figure size 1080x504 with 1 Axes>"
      ]
     },
     "metadata": {},
     "output_type": "display_data"
    }
   ],
   "source": [
    "sns.set()\n",
    "fig, ax = plt.subplots(figsize=(15,7))\n",
    "results_plot_df.plot(ax=ax)\n",
    "plt.legend(title=\"Precipitation\", fancybox=True)\n",
    "\n",
    "ax.xaxis.set_major_formatter(mdates.DateFormatter('%Y-%m-%d'))"
   ]
  },
  {
   "cell_type": "code",
   "execution_count": 21,
   "metadata": {},
   "outputs": [
    {
     "data": {
      "text/html": [
       "<div>\n",
       "<style scoped>\n",
       "    .dataframe tbody tr th:only-of-type {\n",
       "        vertical-align: middle;\n",
       "    }\n",
       "\n",
       "    .dataframe tbody tr th {\n",
       "        vertical-align: top;\n",
       "    }\n",
       "\n",
       "    .dataframe thead th {\n",
       "        text-align: right;\n",
       "    }\n",
       "</style>\n",
       "<table border=\"1\" class=\"dataframe\">\n",
       "  <thead>\n",
       "    <tr style=\"text-align: right;\">\n",
       "      <th></th>\n",
       "      <th>prcp</th>\n",
       "    </tr>\n",
       "  </thead>\n",
       "  <tbody>\n",
       "    <tr>\n",
       "      <th>count</th>\n",
       "      <td>2021.000000</td>\n",
       "    </tr>\n",
       "    <tr>\n",
       "      <th>mean</th>\n",
       "      <td>0.177279</td>\n",
       "    </tr>\n",
       "    <tr>\n",
       "      <th>std</th>\n",
       "      <td>0.461190</td>\n",
       "    </tr>\n",
       "    <tr>\n",
       "      <th>min</th>\n",
       "      <td>0.000000</td>\n",
       "    </tr>\n",
       "    <tr>\n",
       "      <th>25%</th>\n",
       "      <td>0.000000</td>\n",
       "    </tr>\n",
       "    <tr>\n",
       "      <th>50%</th>\n",
       "      <td>0.020000</td>\n",
       "    </tr>\n",
       "    <tr>\n",
       "      <th>75%</th>\n",
       "      <td>0.130000</td>\n",
       "    </tr>\n",
       "    <tr>\n",
       "      <th>max</th>\n",
       "      <td>6.700000</td>\n",
       "    </tr>\n",
       "  </tbody>\n",
       "</table>\n",
       "</div>"
      ],
      "text/plain": [
       "              prcp\n",
       "count  2021.000000\n",
       "mean      0.177279\n",
       "std       0.461190\n",
       "min       0.000000\n",
       "25%       0.000000\n",
       "50%       0.020000\n",
       "75%       0.130000\n",
       "max       6.700000"
      ]
     },
     "execution_count": 21,
     "metadata": {},
     "output_type": "execute_result"
    }
   ],
   "source": [
    "# Use Pandas to calcualte the summary statistics for the precipitation data\n",
    "results_df.describe()"
   ]
  },
  {
   "cell_type": "code",
   "execution_count": 22,
   "metadata": {},
   "outputs": [
    {
     "name": "stdout",
     "output_type": "stream",
     "text": [
      "The total number of stations: 9\n"
     ]
    }
   ],
   "source": [
    "# How many stations are available in this dataset?\n",
    "print(\"The total number of stations:\", session.query(Station.station).count())"
   ]
  },
  {
   "cell_type": "code",
   "execution_count": 23,
   "metadata": {},
   "outputs": [
    {
     "name": "stdout",
     "output_type": "stream",
     "text": [
      "The Station with the highest number of observtations is USC00519281.\n"
     ]
    },
    {
     "name": "stderr",
     "output_type": "stream",
     "text": [
      "C:\\Users\\drmar\\Anaconda3\\envs\\pythondata\\lib\\site-packages\\sqlalchemy\\sql\\compiler.py:643: SAWarning: Can't resolve label reference 'most_active_stations DESC'; converting to text() (this warning may be suppressed after 10 occurrences)\n",
      "  util.ellipses_string(element.element))\n"
     ]
    },
    {
     "data": {
      "text/plain": [
       "[('USC00519281', 2772),\n",
       " ('USC00519397', 2724),\n",
       " ('USC00513117', 2709),\n",
       " ('USC00519523', 2669),\n",
       " ('USC00516128', 2612),\n",
       " ('USC00514830', 2202),\n",
       " ('USC00511918', 1979),\n",
       " ('USC00517948', 1372),\n",
       " ('USC00518838', 511)]"
      ]
     },
     "execution_count": 23,
     "metadata": {},
     "output_type": "execute_result"
    }
   ],
   "source": [
    "# What are the most active stations?\n",
    "# List the stations and the counts in descending order.\n",
    "print('The Station with the highest number of observtations is USC00519281.')\n",
    "session.query(Measurement.station, func.count(Measurement.station).label(\"most_active_stations\"))\\\n",
    "    .group_by(Measurement.station).order_by(\"most_active_stations DESC\").all()  "
   ]
  },
  {
   "cell_type": "code",
   "execution_count": 26,
   "metadata": {},
   "outputs": [
    {
     "data": {
      "text/plain": [
       "[(54.0, 85.0, 71.66378066378067)]"
      ]
     },
     "execution_count": 26,
     "metadata": {},
     "output_type": "execute_result"
    }
   ],
   "source": [
    "# Using the station id from the previous query, calculate the lowest temperature recorded, \n",
    "# highest temperature recorded, and average temperature most active station?\n",
    "session.query(func.min(Measurement.tobs), func.max(Measurement.tobs), func.avg(Measurement.tobs)).\\\n",
    "    filter(Measurement.station == 'USC00519281').all()"
   ]
  },
  {
   "cell_type": "code",
   "execution_count": 27,
   "metadata": {},
   "outputs": [
    {
     "name": "stdout",
     "output_type": "stream",
     "text": [
      "('2016-08-23', 81.0, 'USC00519397', 'WAIKIKI 717.2, HI US')\n",
      "('2016-08-23', 81.0, 'USC00519397', 'KANEOHE 838.1, HI US')\n",
      "('2016-08-23', 81.0, 'USC00519397', 'KUALOA RANCH HEADQUARTERS 886.9, HI US')\n",
      "('2016-08-23', 81.0, 'USC00519397', 'PEARL CITY, HI US')\n",
      "('2016-08-23', 81.0, 'USC00519397', 'UPPER WAHIAWA 874.3, HI US')\n",
      "('2016-08-23', 81.0, 'USC00519397', 'WAIMANALO EXPERIMENTAL FARM, HI US')\n",
      "('2016-08-23', 81.0, 'USC00519397', 'WAIHEE 837.5, HI US')\n",
      "('2016-08-23', 81.0, 'USC00519397', 'HONOLULU OBSERVATORY 702.2, HI US')\n",
      "('2016-08-23', 81.0, 'USC00519397', 'MANOA LYON ARBO 785.2, HI US')\n",
      "('2016-08-24', 79.0, 'USC00519397', 'WAIKIKI 717.2, HI US')\n"
     ]
    }
   ],
   "source": [
    "# Choose the station with the highest number of temperature observations.\n",
    "# Query the last 12 months of temperature observation data for this station and plot the results as a histogram\n",
    "for row in session.query(Measurement.date, Measurement.tobs, Measurement.station, Station.name).filter(Measurement.date <= '2017-08-23').\\\n",
    "filter(Measurement.date >= '2016-08-23').limit(10):\n",
    "    print (row)   "
   ]
  },
  {
   "cell_type": "code",
   "execution_count": 28,
   "metadata": {},
   "outputs": [],
   "source": [
    "tobs_results = session.query(Measurement.date, Measurement.station, Measurement.tobs).\\\n",
    "filter(Measurement.date <= '2017-08-23').\\\n",
    "filter(Measurement.date >= '2016-08-23').\\\n",
    "order_by(Measurement.date.desc()).all()"
   ]
  },
  {
   "cell_type": "code",
   "execution_count": 29,
   "metadata": {},
   "outputs": [
    {
     "name": "stderr",
     "output_type": "stream",
     "text": [
      "C:\\Users\\drmar\\Anaconda3\\envs\\pythondata\\lib\\site-packages\\sqlalchemy\\sql\\compiler.py:643: SAWarning: Can't resolve label reference 'highest_observations DESC'; converting to text() (this warning may be suppressed after 10 occurrences)\n",
      "  util.ellipses_string(element.element))\n"
     ]
    },
    {
     "data": {
      "text/plain": [
       "[('USC00516128', 77.0, 212),\n",
       " ('USC00516128', 76.0, 210),\n",
       " ('USC00516128', 78.0, 198),\n",
       " ('USC00516128', 74.0, 174),\n",
       " ('USC00516128', 75.0, 171),\n",
       " ('USC00516128', 79.0, 158),\n",
       " ('USC00516128', 80.0, 156),\n",
       " ('USC00516128', 72.0, 125),\n",
       " ('USC00516128', 71.0, 121),\n",
       " ('USC00516128', 73.0, 117),\n",
       " ('USC00516128', 70.0, 110),\n",
       " ('USC00516128', 69.0, 92),\n",
       " ('USC00519281', 81.0, 89),\n",
       " ('USC00516128', 68.0, 56),\n",
       " ('USC00516128', 67.0, 54),\n",
       " ('USC00516128', 82.0, 42),\n",
       " ('USC00516128', 66.0, 31),\n",
       " ('USC00516128', 65.0, 28),\n",
       " ('USC00516128', 64.0, 23),\n",
       " ('USC00519281', 63.0, 15),\n",
       " ('USC00519281', 62.0, 13),\n",
       " ('USC00519281', 83.0, 12),\n",
       " ('USC00516128', 60.0, 6),\n",
       " ('USC00519523', 84.0, 6),\n",
       " ('USC00519281', 61.0, 4),\n",
       " ('USC00519281', 59.0, 3),\n",
       " ('USC00517948', 87.0, 2),\n",
       " ('USC00516128', 58.0, 1),\n",
       " ('USC00519523', 85.0, 1)]"
      ]
     },
     "execution_count": 29,
     "metadata": {},
     "output_type": "execute_result"
    }
   ],
   "source": [
    "tobs_results2= session.query(Measurement.station, Measurement.tobs, func.count(Measurement.tobs).\\\n",
    "    label(\"highest_observations\")).\\\n",
    "    group_by(Measurement.tobs).\\\n",
    "    filter(Measurement.date <= '2017-08-23').\\\n",
    "    filter(Measurement.date >= '2016-08-23').\\\n",
    "    order_by(\"highest_observations DESC\").all() \n",
    "tobs_results2"
   ]
  },
  {
   "cell_type": "code",
   "execution_count": 32,
   "metadata": {},
   "outputs": [],
   "source": [
    "date_tobs = [t[0] for t in tobs_results[:]]\n",
    "\n",
    "station_tobs3 = [t[1] for t in tobs_results[:]]\n",
    "\n",
    "tobs4 = [t[2] for t in tobs_results[:]]"
   ]
  },
  {
   "cell_type": "code",
   "execution_count": 33,
   "metadata": {},
   "outputs": [
    {
     "data": {
      "text/plain": [
       "(2230, 3)"
      ]
     },
     "execution_count": 33,
     "metadata": {},
     "output_type": "execute_result"
    }
   ],
   "source": [
    "tobs_all_df = pd.DataFrame(tobs_results[:], columns=['date', 'station', 'tobs'])\n",
    "tobs_all_df.head()\n",
    "tobs_all_df.shape"
   ]
  },
  {
   "cell_type": "code",
   "execution_count": 34,
   "metadata": {},
   "outputs": [
    {
     "data": {
      "text/plain": [
       "(2230, 1)"
      ]
     },
     "execution_count": 34,
     "metadata": {},
     "output_type": "execute_result"
    }
   ],
   "source": [
    "plot_tobs2 = tobs_all_df[['tobs']]\n",
    "plot_tobs2.sort_values('tobs', ascending=True).head()\n",
    "plot_tobs2.shape"
   ]
  },
  {
   "cell_type": "code",
   "execution_count": 36,
   "metadata": {},
   "outputs": [
    {
     "data": {
      "text/plain": [
       "<matplotlib.axes._subplots.AxesSubplot at 0x225a189a668>"
      ]
     },
     "execution_count": 36,
     "metadata": {},
     "output_type": "execute_result"
    },
    {
     "data": {
      "text/plain": [
       "<Figure size 432x288 with 0 Axes>"
      ]
     },
     "metadata": {},
     "output_type": "display_data"
    },
    {
     "data": {
      "image/png": "[encoded data removed]",
      "text/plain": [
       "<Figure size 432x288 with 1 Axes>"
      ]
     },
     "metadata": {},
     "output_type": "display_data"
    }
   ],
   "source": [
    "sns.set()\n",
    "plt.figure()\n",
    "plot_tobs2.plot.hist(alpha=0.9, range=[50, 90], bins=12, rwidth=0.95)"
   ]
  },
  {
   "cell_type": "code",
   "execution_count": 16,
   "metadata": {},
   "outputs": [
    {
     "name": "stdout",
     "output_type": "stream",
     "text": [
      "[(62.0, 69.57142857142857, 74.0)]\n"
     ]
    }
   ],
   "source": [
    "# Write a function called `calc_temps` that will accept start date and end date in the format '%Y-%m-%d' \n",
    "# and return the minimum, average, and maximum temperatures for that range of dates\n",
    "calc_temps = session.query(Measurement.date, Measurement.tobs).filter(Measurement.date <= '2017-08-22').\\\n",
    "filter(Measurement.date >= '2017-08-17').\\\n",
    "order_by(Measurement.tobs.desc()).all()\n",
    "\n",
    "calc_temps"
   ]
  },
  {
   "cell_type": "code",
   "execution_count": 17,
   "metadata": {},
   "outputs": [
    {
     "name": "stdout",
     "output_type": "stream",
     "text": [
      "62.0 68.36585365853658 74.0\n"
     ]
    }
   ],
   "source": [
    "weather_vacation = session.query(Measurement.tobs).filter(Measurement.date <= '2017-08-22').\\\n",
    "filter(Measurement.date >= '2017-08-17').\\\n",
    "order_by(Measurement.tobs.desc()).all()\n",
    "\n",
    "weather_vacation\n",
    "\n",
    "weather_vacation_list = list(np.ravel(weather_vacation))\n",
    "np.mean(weather_vacation_list)\n"
   ]
  },
  {
   "cell_type": "code",
   "execution_count": 37,
   "metadata": {},
   "outputs": [
    {
     "data": {
      "text/plain": [
       "[85.0]"
      ]
     },
     "execution_count": 37,
     "metadata": {},
     "output_type": "execute_result"
    }
   ],
   "source": [
    "max_temps = session.query(func.max(Measurement.tobs)).filter(Measurement.date <= '2017-08-22').\\\n",
    "filter(Measurement.date >= '2017-08-17').\\\n",
    "order_by(Measurement.date.desc()).all()\n",
    "\n",
    "max_temps\n",
    "\n",
    "max_temps_list = list(np.ravel(max_temps))\n",
    "max_temps_list"
   ]
  },
  {
   "cell_type": "code",
   "execution_count": 38,
   "metadata": {},
   "outputs": [
    {
     "data": {
      "text/plain": [
       "[71.0]"
      ]
     },
     "execution_count": 38,
     "metadata": {},
     "output_type": "execute_result"
    }
   ],
   "source": [
    "min_temps = session.query(func.min(Measurement.tobs)).filter(Measurement.date <= '2017-08-22').\\\n",
    "filter(Measurement.date >= '2017-08-17').\\\n",
    "order_by(Measurement.date.desc()).all()\n",
    "\n",
    "min_temps\n",
    "\n",
    "min_temps_list = list(np.ravel(min_temps))\n",
    "min_temps_list"
   ]
  },
  {
   "cell_type": "code",
   "execution_count": 39,
   "metadata": {},
   "outputs": [
    {
     "data": {
      "text/plain": [
       "[78.77272727272727]"
      ]
     },
     "execution_count": 39,
     "metadata": {},
     "output_type": "execute_result"
    }
   ],
   "source": [
    "avg_temps = session.query(func.avg(Measurement.tobs)).filter(Measurement.date <= '2017-08-22').\\\n",
    "filter(Measurement.date >= '2017-08-17').\\\n",
    "order_by(Measurement.date.desc()).all()\n",
    "\n",
    "avg_temps\n",
    "\n",
    "avg_temps_list = list(np.ravel(avg_temps))\n",
    "avg_temps_list"
   ]
  },
  {
   "cell_type": "code",
   "execution_count": 40,
   "metadata": {},
   "outputs": [
    {
     "data": {
      "text/plain": [
       "14.0"
      ]
     },
     "execution_count": 40,
     "metadata": {},
     "output_type": "execute_result"
    }
   ],
   "source": [
    "maxtemps = max_temps_list[0]\n",
    "mintemps = min_temps_list[0]\n",
    "avgtemps = avg_temps_list[0]\n",
    "\n",
    "maxtemps\n",
    "mintemps\n",
    "avgtemps.round()\n",
    "\n",
    "errorbar = maxtemps - mintemps\n",
    "errorbar"
   ]
  },
  {
   "cell_type": "code",
   "execution_count": 41,
   "metadata": {},
   "outputs": [
    {
     "data": {
      "text/html": [
       "<div>\n",
       "<style scoped>\n",
       "    .dataframe tbody tr th:only-of-type {\n",
       "        vertical-align: middle;\n",
       "    }\n",
       "\n",
       "    .dataframe tbody tr th {\n",
       "        vertical-align: top;\n",
       "    }\n",
       "\n",
       "    .dataframe thead th {\n",
       "        text-align: right;\n",
       "    }\n",
       "</style>\n",
       "<table border=\"1\" class=\"dataframe\">\n",
       "  <thead>\n",
       "    <tr style=\"text-align: right;\">\n",
       "      <th></th>\n",
       "      <th>maxtemps</th>\n",
       "      <th>mintemps</th>\n",
       "      <th>avgtemps</th>\n",
       "      <th>errorbar</th>\n",
       "    </tr>\n",
       "  </thead>\n",
       "  <tbody>\n",
       "    <tr>\n",
       "      <th>0</th>\n",
       "      <td>85.0</td>\n",
       "      <td>71.0</td>\n",
       "      <td>79.0</td>\n",
       "      <td>14.0</td>\n",
       "    </tr>\n",
       "  </tbody>\n",
       "</table>\n",
       "</div>"
      ],
      "text/plain": [
       "   maxtemps  mintemps  avgtemps  errorbar\n",
       "0      85.0      71.0      79.0      14.0"
      ]
     },
     "execution_count": 41,
     "metadata": {},
     "output_type": "execute_result"
    }
   ],
   "source": [
    "weather_data = {'maxtemps': [maxtemps],\n",
    "               'mintemps': [mintemps],\n",
    "               'avgtemps': [avgtemps.round()],\n",
    "               'errorbar': [errorbar]}\n",
    "weather_df = pd.DataFrame(weather_data, columns = ['maxtemps', 'mintemps', 'avgtemps', 'errorbar'])\n",
    "weather_df"
   ]
  },
  {
   "cell_type": "code",
   "execution_count": 42,
   "metadata": {},
   "outputs": [],
   "source": [
    "yerr = errorbar"
   ]
  },
  {
   "cell_type": "code",
   "execution_count": 43,
   "metadata": {},
   "outputs": [
    {
     "data": {
      "text/plain": [
       "Text(0.5,1,'Trip Avg Temp')"
      ]
     },
     "execution_count": 43,
     "metadata": {},
     "output_type": "execute_result"
    },
    {
     "data": {
      "image/png": "[encoded data removed]",
      "text/plain": [
       "<Figure size 144x360 with 1 Axes>"
      ]
     },
     "metadata": {},
     "output_type": "display_data"
    }
   ],
   "source": [
    "# Plot the results from your previous query as a bar chart. \n",
    "# Use \"Trip Avg Temp\" as your Title\n",
    "# Use the average temperature for the y value\n",
    "# Use the peak-to-peak (tmax-tmin) value as the y error bar (yerr)\n",
    "sns.set_style(\"whitegrid\")\n",
    "plt.figure(figsize=(2,5))\n",
    "ax = sns.barplot(x= \"errorbar\", y= \"avgtemps\", color=\"r\", ci=95, edgecolor = 'black', yerr = 12, capsize=7,\n",
    "                 alpha=0.7, data=weather_df)\n",
    "\n",
    "ax.set_ylabel(\"Temp (F)\")\n",
    "ax.set_xlabel('')\n",
    "plt.title(\"Trip Avg Temp\")"
   ]
  }
 ],
 "metadata": {
  "kernel_info": {
   "name": "python3"
  },
  "kernelspec": {
   "display_name": "Python [default]",
   "language": "python",
   "name": "python3"
  },
  "language_info": {
   "codemirror_mode": {
    "name": "ipython",
    "version": 3
   },
   "file_extension": ".py",
   "mimetype": "text/x-python",
   "name": "python",
   "nbconvert_exporter": "python",
   "pygments_lexer": "ipython3",
   "version": "3.6.5"
  },
  "nteract": {
   "version": "0.9.1"
  },
  "varInspector": {
   "cols": {
    "lenName": 16,
    "lenType": 16,
    "lenVar": 40
   },
   "kernels_config": {
    "python": {
     "delete_cmd_postfix": "",
     "delete_cmd_prefix": "del ",
     "library": "var_list.py",
     "varRefreshCmd": "print(var_dic_list())"
    },
    "r": {
     "delete_cmd_postfix": ") ",
     "delete_cmd_prefix": "rm(",
     "library": "var_list.r",
     "varRefreshCmd": "cat(var_dic_list()) "
    }
   },
   "types_to_exclude": [
    "module",
    "function",
    "builtin_function_or_method",
    "instance",
    "_Feature"
   ],
   "window_display": false
  }
 },
 "nbformat": 4,
 "nbformat_minor": 2
}
